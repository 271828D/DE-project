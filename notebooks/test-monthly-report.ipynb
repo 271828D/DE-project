{
 "cells": [
  {
   "cell_type": "code",
   "execution_count": 1,
   "id": "126ad41e",
   "metadata": {},
   "outputs": [
    {
     "name": "stdout",
     "output_type": "stream",
     "text": [
      "df shape: (4325840, 18)\n",
      "Notebook execution: 2025-10-05_15:18:38\n"
     ]
    }
   ],
   "source": [
    "import pandas as pd\n",
    "from datetime import datetime\n",
    "\n",
    "df = pd.read_csv(\"../data/clean_data_20251005_003149.csv\", sep=\",\")\n",
    "print(f\"df shape: {df.shape}\")\n",
    "\n",
    "now = datetime.now().strftime('%Y-%m-%d_%H:%M:%S')\n",
    "\n",
    "print(f\"Notebook execution: {now}\")\n"
   ]
  },
  {
   "cell_type": "code",
   "execution_count": 2,
   "id": "4ce5f29d",
   "metadata": {},
   "outputs": [
    {
     "data": {
      "text/plain": [
       "order_id                   object\n",
       "purchased_at               object\n",
       "purchased_date             object\n",
       "purchased_month_ended      object\n",
       "order_item_id              object\n",
       "sku                        object\n",
       "product_title              object\n",
       "product_name_full          object\n",
       "currency                   object\n",
       "item_price                 object\n",
       "item_tax                   object\n",
       "shipping_price             object\n",
       "shipping_tax               object\n",
       "gift_wrap_price            object\n",
       "gift_wrap_tax              object\n",
       "item_promo_discount        object\n",
       "shipment_promo_discount    object\n",
       "ship_service_level         object\n",
       "dtype: object"
      ]
     },
     "execution_count": 2,
     "metadata": {},
     "output_type": "execute_result"
    }
   ],
   "source": [
    "df.dtypes"
   ]
  },
  {
   "cell_type": "code",
   "execution_count": 7,
   "id": "40bc92d7",
   "metadata": {},
   "outputs": [
    {
     "data": {
      "text/plain": [
       "5025       2025-05-10\n",
       "5026              NaN\n",
       "5027       2025-04-02\n",
       "5028       2025-05-10\n",
       "5029       2025-02-02\n",
       "5030       2025-04-02\n",
       "5031    2025-04-29ñá¿\n",
       "5032       2025-03-13\n",
       "5033       2025-05-01\n",
       "5034       2025-02-19\n",
       "Name: purchased_date, dtype: object"
      ]
     },
     "execution_count": 7,
     "metadata": {},
     "output_type": "execute_result"
    }
   ],
   "source": [
    "df[\"purchased_date\"][5025:5035]"
   ]
  },
  {
   "cell_type": "code",
   "execution_count": 4,
   "id": "98012c4a",
   "metadata": {},
   "outputs": [
    {
     "data": {
      "text/plain": [
       "4325840"
      ]
     },
     "execution_count": 4,
     "metadata": {},
     "output_type": "execute_result"
    }
   ],
   "source": [
    "len(df[\"purchased_date\"])"
   ]
  },
  {
   "cell_type": "code",
   "execution_count": 11,
   "id": "ac0656a7",
   "metadata": {},
   "outputs": [
    {
     "data": {
      "text/plain": [
       "5         82.86\n",
       "6        142.66\n",
       "7         59.16\n",
       "8         80.72\n",
       "9     115.75\\nú\n",
       "10    91.99, üÑ\n",
       "11       103.59\n",
       "12        95.46\n",
       "13         9.06\n",
       "14       160.48\n",
       "Name: item_price, dtype: object"
      ]
     },
     "execution_count": 11,
     "metadata": {},
     "output_type": "execute_result"
    }
   ],
   "source": [
    "df[\"item_price\"][5:15]"
   ]
  },
  {
   "cell_type": "code",
   "execution_count": 12,
   "id": "88bdaf1f",
   "metadata": {},
   "outputs": [
    {
     "data": {
      "text/plain": [
       "np.int64(270795)"
      ]
     },
     "execution_count": 12,
     "metadata": {},
     "output_type": "execute_result"
    }
   ],
   "source": [
    "df[\"item_price\"].isna().sum()"
   ]
  },
  {
   "cell_type": "code",
   "execution_count": 13,
   "id": "0ffbf028",
   "metadata": {},
   "outputs": [
    {
     "data": {
      "text/plain": [
       "0      35.44\n",
       "1      22.79\n",
       "2    4.97Áá¿\n",
       "3      28.25\n",
       "4      10.85\n",
       "Name: item_promo_discount, dtype: object"
      ]
     },
     "execution_count": 13,
     "metadata": {},
     "output_type": "execute_result"
    }
   ],
   "source": [
    "df[\"item_promo_discount\"][:5]"
   ]
  },
  {
   "cell_type": "code",
   "execution_count": 14,
   "id": "563911c4",
   "metadata": {},
   "outputs": [
    {
     "data": {
      "text/plain": [
       "np.int64(270822)"
      ]
     },
     "execution_count": 14,
     "metadata": {},
     "output_type": "execute_result"
    }
   ],
   "source": [
    "df[\"item_promo_discount\"].isna().sum()"
   ]
  },
  {
   "cell_type": "code",
   "execution_count": 5,
   "id": "374cd412",
   "metadata": {},
   "outputs": [],
   "source": [
    "# Step 2: PRESERVE original date strings before conversion\n",
    "# This is crucial! We save the text version before pandas converts it\n",
    "df[\"purchased_date_original\"] = df[\"purchased_date\"].astype(str)\n",
    "\n",
    "# Step 3: Convert text dates to datetime objects\n",
    "df[\"purchased_date\"] = pd.to_datetime(df[\"purchased_date\"], errors=\"coerce\")\n",
    "\n",
    "# Step 4: Extract month-year (this will be NaT for invalid dates)\n",
    "df[\"month_year\"] = df[\"purchased_date\"].dt.to_period(\"M\")\n",
    "\n",
    "# Step 5: Convert month_year Period to string to handle NaT properly\n",
    "# NaT will become 'NaT' string, valid dates become '2025-01'\n",
    "df[\"month_year\"] = df[\"month_year\"].astype(str)\n",
    "\n",
    "# Step 6: Convert price columns to numeric\n",
    "df[\"item_price\"] = pd.to_numeric(df[\"item_price\"], errors=\"coerce\")\n",
    "df[\"item_promo_discount\"] = pd.to_numeric(df[\"item_promo_discount\"], errors=\"coerce\")\n",
    "\n",
    "# Step 7: Remove rows with invalid dates\n",
    "# Filter out rows where month_year is 'NaT' (as string)\n",
    "df = df[df[\"month_year\"] != \"NaT\"]\n",
    "\n",
    "# Step 8: Optional - drop the original date column if not needed\n",
    "# df = df.drop(columns=[\"purchased_date_original\"])"
   ]
  },
  {
   "cell_type": "code",
   "execution_count": 6,
   "id": "299c1a82",
   "metadata": {},
   "outputs": [
    {
     "data": {
      "text/plain": [
       "3416649"
      ]
     },
     "execution_count": 6,
     "metadata": {},
     "output_type": "execute_result"
    }
   ],
   "source": [
    "len(df[\"purchased_date\"])"
   ]
  }
 ],
 "metadata": {
  "kernelspec": {
   "display_name": ".venv",
   "language": "python",
   "name": "python3"
  },
  "language_info": {
   "codemirror_mode": {
    "name": "ipython",
    "version": 3
   },
   "file_extension": ".py",
   "mimetype": "text/x-python",
   "name": "python",
   "nbconvert_exporter": "python",
   "pygments_lexer": "ipython3",
   "version": "3.10.18"
  }
 },
 "nbformat": 4,
 "nbformat_minor": 5
}
