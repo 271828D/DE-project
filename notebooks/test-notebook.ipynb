{
 "cells": [
  {
   "cell_type": "code",
   "execution_count": 1,
   "id": "fbd908d5",
   "metadata": {},
   "outputs": [
    {
     "name": "stdout",
     "output_type": "stream",
     "text": [
      "Notebook execution: 2025-09-29 22:09:27.734607\n"
     ]
    }
   ],
   "source": [
    "import pandas as pd\n",
    "import numpy as np\n",
    "import datetime\n",
    "import os\n",
    "\n",
    "now = datetime.datetime.now()\n",
    "\n",
    "print(f\"Notebook execution: {now}\")\n"
   ]
  },
  {
   "cell_type": "code",
   "execution_count": 7,
   "id": "aafe97f1",
   "metadata": {},
   "outputs": [],
   "source": [
    "def _input_path(path:str) -> str:\n",
    "    return path"
   ]
  },
  {
   "cell_type": "code",
   "execution_count": 8,
   "id": "3939212e",
   "metadata": {},
   "outputs": [
    {
     "name": "stdout",
     "output_type": "stream",
     "text": [
      "Input path: ../data/order_items_data_2_.csv\n"
     ]
    }
   ],
   "source": [
    "data_path = _input_path(\"../data/order_items_data_2_.csv\")\n",
    "print(f\"Input path: {data_path}\")"
   ]
  },
  {
   "cell_type": "code",
   "execution_count": null,
   "id": "cd489712",
   "metadata": {},
   "outputs": [
    {
     "name": "stdout",
     "output_type": "stream",
     "text": [
      "Index(['order_id', 'purchased_at', 'purchased_date', 'purchased_month_ended',\n",
      "       'order_item_id', 'sku', 'product_title', 'product_name_full',\n",
      "       'currency', 'item_price', 'item_tax', 'shipping_price', 'shipping_tax',\n",
      "       'gift_wrap_price', 'gift_wrap_tax', 'item_promo_discount',\n",
      "       'shipment_promo_discount', 'ship_service_level'],\n",
      "      dtype='object')\n"
     ]
    }
   ],
   "source": [
    "# data_ = pd.read_csv(data_path, sep=\",\")\n",
    "\n",
    "print(data_.columns)\n",
    "# print(data_.sample(2))"
   ]
  },
  {
   "cell_type": "code",
   "execution_count": 9,
   "id": "ef430c39",
   "metadata": {},
   "outputs": [
    {
     "data": {
      "text/plain": [
       "order_id                   object\n",
       "purchased_at               object\n",
       "purchased_date             object\n",
       "purchased_month_ended      object\n",
       "order_item_id              object\n",
       "sku                        object\n",
       "product_title              object\n",
       "product_name_full          object\n",
       "currency                   object\n",
       "item_price                 object\n",
       "item_tax                   object\n",
       "shipping_price             object\n",
       "shipping_tax               object\n",
       "gift_wrap_price            object\n",
       "gift_wrap_tax              object\n",
       "item_promo_discount        object\n",
       "shipment_promo_discount    object\n",
       "ship_service_level         object\n",
       "dtype: object"
      ]
     },
     "execution_count": 9,
     "metadata": {},
     "output_type": "execute_result"
    }
   ],
   "source": [
    "data_.dtypes"
   ]
  }
 ],
 "metadata": {
  "kernelspec": {
   "display_name": "coding_task",
   "language": "python",
   "name": "python3"
  },
  "language_info": {
   "codemirror_mode": {
    "name": "ipython",
    "version": 3
   },
   "file_extension": ".py",
   "mimetype": "text/x-python",
   "name": "python",
   "nbconvert_exporter": "python",
   "pygments_lexer": "ipython3",
   "version": "3.10.18"
  }
 },
 "nbformat": 4,
 "nbformat_minor": 5
}
