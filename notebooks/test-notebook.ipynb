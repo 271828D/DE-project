{
 "cells": [
  {
   "cell_type": "code",
   "execution_count": 1,
   "id": "fbd908d5",
   "metadata": {},
   "outputs": [
    {
     "name": "stdout",
     "output_type": "stream",
     "text": [
      "Notebook execution: 2025-10-02_23:07:38\n"
     ]
    }
   ],
   "source": [
    "import pandas as pd\n",
    "import numpy as np\n",
    "from datetime import datetime\n",
    "import os\n",
    "from urllib.request import urlretrieve\n",
    "\n",
    "now = datetime.now().strftime('%Y-%m-%d_%H:%M:%S')\n",
    "\n",
    "print(f\"Notebook execution: {now}\")\n"
   ]
  },
  {
   "cell_type": "markdown",
   "id": "2a168b99",
   "metadata": {},
   "source": [
    "### **Check url logic**\n",
    "_____"
   ]
  },
  {
   "cell_type": "code",
   "execution_count": 2,
   "id": "b990105e",
   "metadata": {},
   "outputs": [
    {
     "name": "stdout",
     "output_type": "stream",
     "text": [
      "data filename: order_items_20251002_230740.csv\n",
      "output path: data/order_items_20251002_230740.csv\n"
     ]
    }
   ],
   "source": [
    "url = (\"https://storage.googleapis.com/nozzle-csv-exports/testing-data/order_items_2_.csv\")\n",
    "\n",
    "timestamp = datetime.now().strftime('%Y%m%d_%H%M%S')\n",
    "file_name = f\"order_items_{timestamp}.csv\"\n",
    "output_path = \"data\"\n",
    "output_path = os.path.join(output_path, file_name)\n",
    "\n",
    "print(f\"data filename: {file_name}\")\n",
    "print(f\"output path: {output_path}\")"
   ]
  },
  {
   "cell_type": "code",
   "execution_count": 3,
   "id": "692225c5",
   "metadata": {},
   "outputs": [],
   "source": [
    "import requests\n",
    "from typing import Optional\n",
    "\n",
    "def check_request(url: str, timeout: Optional[int] = 15) -> Optional[bytes]:\n",
    "    \"\"\"This function do the request to the\n",
    "        url\n",
    "        \n",
    "        Args:\n",
    "            - url\n",
    "            - timeout\n",
    "    \"\"\"\n",
    "    # Try/catch to check url\n",
    "    try:\n",
    "        response = requests.get(url, timeout=timeout)\n",
    "        response.raise_for_status()  # Check for error codes (classic 404 lol)\n",
    "        return response.content\n",
    "    \n",
    "    except requests.Timeout:\n",
    "        print(f\"response took more than {timeout} seconds\")\n",
    "        return None\n",
    "\n",
    "    except requests.HTTPError as e:\n",
    "        print(f\"HTTP Error {e.response.status_code}: {e}\")\n",
    "        return None\n",
    "    \n",
    "    except requests.RequestException as e:\n",
    "        print(f\"Download failed: {e}\")\n",
    "        return None\n",
    "\n",
    "data = check_request(\"https://people.sc.fsu.edu/~jburkardt/data/csv/airtravel.csv\")\n",
    "#Test url \"https://people.sc.fsu.edu/~jburkardt/data/csv/airtravel.csv\""
   ]
  },
  {
   "cell_type": "code",
   "execution_count": 4,
   "id": "de60df1a",
   "metadata": {},
   "outputs": [
    {
     "data": {
      "text/plain": [
       "b'\"Month\", \"1958\", \"1959\", \"1960\"\\n\"JAN\",  340,  360,  417\\n\"FEB\",  318,  342,  391\\n\"MAR\",  362,  406,  419\\n\"APR\",  348,  396,  461\\n\"MAY\",  363,  420,  472\\n\"JUN\",  435,  472,  535\\n\"JUL\",  491,  548,  622\\n\"AUG\",  505,  559,  606\\n\"SEP\",  404,  463,  508\\n\"OCT\",  359,  407,  461\\n\"NOV\",  310,  362,  390\\n\"DEC\",  337,  405,  432\\n\\n'"
      ]
     },
     "execution_count": 4,
     "metadata": {},
     "output_type": "execute_result"
    }
   ],
   "source": [
    "data # bytes"
   ]
  },
  {
   "cell_type": "markdown",
   "id": "01085a13",
   "metadata": {},
   "source": [
    "### **Download the file**\n",
    "_______"
   ]
  },
  {
   "cell_type": "code",
   "execution_count": 5,
   "id": "a5cd372b",
   "metadata": {},
   "outputs": [],
   "source": [
    "from pathlib import Path\n",
    "\n",
    "def download_file(url_data):\n",
    "    \"\"\"\n",
    "        Download the data file to a .csv file,\n",
    "        creates the /data folder and saves \n",
    "        the downloaded data in the /data folder\n",
    "        with the name: \n",
    "        order_items_<timestamp>.csv\n",
    "\n",
    "        Arg:\n",
    "    \"\"\"\n",
    "    timestamp = datetime.now().strftime('%Y%m%d_%H%M%S')\n",
    "    filename = f\"order_items_{timestamp}.csv\"\n",
    "\n",
    "    data_folder = Path(\"../data\")\n",
    "    data_folder.mkdir(parents=True, exist_ok=True)\n",
    "\n",
    "    output_file = data_folder / filename\n",
    "\n",
    "    # Save to file\n",
    "    with output_file.open('wb') as f:\n",
    "        f.write(url_data)\n",
    "\n",
    "download_file(data)"
   ]
  },
  {
   "cell_type": "markdown",
   "id": "a0a78a18",
   "metadata": {},
   "source": [
    "### **Clean data**\n",
    "______"
   ]
  },
  {
   "cell_type": "code",
   "execution_count": 11,
   "id": "5f12f47a",
   "metadata": {},
   "outputs": [
    {
     "name": "stdout",
     "output_type": "stream",
     "text": [
      "order_id                   object\n",
      "purchased_at               object\n",
      "purchased_date             object\n",
      "purchased_month_ended      object\n",
      "order_item_id              object\n",
      "sku                        object\n",
      "product_title              object\n",
      "product_name_full          object\n",
      "currency                   object\n",
      "item_price                 object\n",
      "item_tax                   object\n",
      "shipping_price             object\n",
      "shipping_tax               object\n",
      "gift_wrap_price            object\n",
      "gift_wrap_tax              object\n",
      "item_promo_discount        object\n",
      "shipment_promo_discount    object\n",
      "ship_service_level         object\n",
      "dtype: object\n",
      "shape: (5430317, 18)\n",
      "                                     order_id                purchased_at  \\\n",
      "1295482  a1716ffe-9ce8-4c8b-8d55-cc238ed07839  2025-02-22T00:13:16.184576   \n",
      "4180656  74d6bd94-769a-42f1-ad9c-1a9dbffcc504  2025-01-17T17:01:13.719529   \n",
      "\n",
      "        purchased_date purchased_month_ended   order_item_id           sku  \\\n",
      "1295482     2025-02-22            2025-02-28  62474761607421  jJS-24128849   \n",
      "4180656     2025-01-17            2025-01-31  24662642859982  CMq-39399345   \n",
      "\n",
      "                     product_title          product_name_full currency  \\\n",
      "1295482  Dulce Tortilla de patatas  Dulce Tortilla de patatas      USD   \n",
      "4180656      Natural Jamón ibérico      Natural Jamón ibérico      USD   \n",
      "\n",
      "        item_price item_tax shipping_price shipping_tax gift_wrap_price  \\\n",
      "1295482      77.92     4.97           8.49         1.58            0.07   \n",
      "4180656      35.35     3.03           1.37         0.22             0.0   \n",
      "\n",
      "        gift_wrap_tax item_promo_discount shipment_promo_discount  \\\n",
      "1295482          0.01                 1.2                    0.83   \n",
      "4180656           0.0                2.58                    0.17   \n",
      "\n",
      "        ship_service_level  \n",
      "1295482            One Day  \n",
      "4180656            One Day  \n"
     ]
    }
   ],
   "source": [
    "data = pd.read_csv(\"../data/order_items_data_2_.csv\", sep=\",\")\n",
    "discarded_rows = []\n",
    "print(data.dtypes)\n",
    "print(f\"shape: {data.shape}\")\n",
    "print(data.sample(2))"
   ]
  },
  {
   "cell_type": "markdown",
   "id": "305c305c",
   "metadata": {},
   "source": [
    "#### **Remove duplicates**\n",
    "_____"
   ]
  },
  {
   "cell_type": "code",
   "execution_count": 12,
   "id": "837131db",
   "metadata": {},
   "outputs": [
    {
     "name": "stdout",
     "output_type": "stream",
     "text": [
      "original shape: (5430317, 18)\n",
      "duplicates shape: (1104476, 18)\n",
      "without duplicates shape: (4325841, 18)\n",
      "Discarded log elements: 1104476\n"
     ]
    }
   ],
   "source": [
    "duplicates = data[data.duplicated(keep='first')]\n",
    "data_without_duplicates = data.drop_duplicates(keep=\"first\")\n",
    "discarded_rows.append(duplicates)\n",
    "print(f\"original shape: {data.shape}\")\n",
    "print(f\"duplicates shape: {duplicates.shape}\")\n",
    "print(f\"without duplicates shape: {data_without_duplicates.shape}\")\n",
    "print(f\"Discarded log elements: {len(pd.concat(discarded_rows, ignore_index=True))}\")"
   ]
  },
  {
   "cell_type": "code",
   "execution_count": 13,
   "id": "a93b65e6",
   "metadata": {},
   "outputs": [
    {
     "data": {
      "text/plain": [
       "[                                     order_id                purchased_at  \\\n",
       " 19                                        NaN                         NaN   \n",
       " 33                                        NaN                         NaN   \n",
       " 35                                        NaN                         NaN   \n",
       " 52                                        NaN                         NaN   \n",
       " 59                                        NaN                         NaN   \n",
       " ...                                       ...                         ...   \n",
       " 5430301  5f76c263-c79a-4e7b-9458-e3241db790fa  2025-04-10T22:27:43.648907   \n",
       " 5430303  3a6dc8b0-c206-4ae8-946e-1af9a376f464  2025-01-01T05:30:20.944186   \n",
       " 5430304                                   NaN                         NaN   \n",
       " 5430306  6428c2e1-d8de-4e2e-8e84-f9b1bb56fd15  2025-02-14T17:28:15.012963   \n",
       " 5430309  68a81cd0-bb98-4c16-8d45-493bfb0e4e7f  2025-04-29T03:29:47.292819   \n",
       " \n",
       "         purchased_date purchased_month_ended   order_item_id           sku  \\\n",
       " 19                 NaN                   NaN             NaN           NaN   \n",
       " 33                 NaN                   NaN             NaN           NaN   \n",
       " 35                 NaN                   NaN             NaN           NaN   \n",
       " 52                 NaN                   NaN             NaN           NaN   \n",
       " 59                 NaN                   NaN             NaN           NaN   \n",
       " ...                ...                   ...             ...           ...   \n",
       " 5430301     2025-04-10            2025-04-30  18026481710231  OsV-46523835   \n",
       " 5430303     2025-01-01            2025-01-31  38177577025449  Mkj-36894672   \n",
       " 5430304            NaN                   NaN             NaN           NaN   \n",
       " 5430306     2025-02-14            2025-02-28  85845913527824  raO-21663955   \n",
       " 5430309     2025-04-29            2025-04-30  99045273255499  lEC-00443804   \n",
       " \n",
       "                          product_title               product_name_full  \\\n",
       " 19                                 NaN                             NaN   \n",
       " 33                                 NaN                             NaN   \n",
       " 35                                 NaN                             NaN   \n",
       " 52                                 NaN                             NaN   \n",
       " 59                                 NaN                             NaN   \n",
       " ...                                ...                             ...   \n",
       " 5430301            Dulce Jamón ibérico          Dulce Jamón ibérico 54   \n",
       " 5430303  Auténtico Tortilla de patatas   Auténtico Tortilla de patatas   \n",
       " 5430304                            NaN                             NaN   \n",
       " 5430306    Picante Tortilla de patatas  Picante Tortilla de patatas 28   \n",
       " 5430309        Delicioso Pan artesanal      Delicioso Pan artesanal 91   \n",
       " \n",
       "         currency item_price item_tax shipping_price shipping_tax  \\\n",
       " 19           NaN        NaN      NaN            NaN          NaN   \n",
       " 33           NaN        NaN      NaN            NaN          NaN   \n",
       " 35           NaN        NaN      NaN            NaN          NaN   \n",
       " 52           NaN        NaN      NaN            NaN          NaN   \n",
       " 59           NaN        NaN      NaN            NaN          NaN   \n",
       " ...          ...        ...      ...            ...          ...   \n",
       " 5430301      USD     108.36    11.43           1.25         0.24   \n",
       " 5430303      USD      82.63     7.48           2.54         0.42   \n",
       " 5430304      NaN        NaN      NaN            NaN          NaN   \n",
       " 5430306      USD      78.88     5.58           6.31         0.81   \n",
       " 5430309      USD      41.87      2.7           9.63          1.5   \n",
       " \n",
       "         gift_wrap_price gift_wrap_tax item_promo_discount  \\\n",
       " 19                  NaN           NaN                 NaN   \n",
       " 33                  NaN           NaN                 NaN   \n",
       " 35                  NaN           NaN                 NaN   \n",
       " 52                  NaN           NaN                 NaN   \n",
       " 59                  NaN           NaN                 NaN   \n",
       " ...                 ...           ...                 ...   \n",
       " 5430301             0.0           0.0               28.31   \n",
       " 5430303            0.55          0.05                24.6   \n",
       " 5430304             NaN           NaN                 NaN   \n",
       " 5430306            6.16          0.51                9.14   \n",
       " 5430309             0.0           0.0                9.66   \n",
       " \n",
       "         shipment_promo_discount ship_service_level  \n",
       " 19                          NaN                NaN  \n",
       " 33                          NaN                NaN  \n",
       " 35                          NaN                NaN  \n",
       " 52                          NaN                NaN  \n",
       " 59                          NaN                NaN  \n",
       " ...                         ...                ...  \n",
       " 5430301                    0.37         Second Day  \n",
       " 5430303                     0.1         Second Day  \n",
       " 5430304                     NaN                NaN  \n",
       " 5430306                    0.38          Expedited  \n",
       " 5430309                    0.49         Second Day  \n",
       " \n",
       " [1104476 rows x 18 columns]]"
      ]
     },
     "execution_count": 13,
     "metadata": {},
     "output_type": "execute_result"
    }
   ],
   "source": [
    "discarded_rows"
   ]
  },
  {
   "cell_type": "markdown",
   "id": "fb6bb7d8",
   "metadata": {},
   "source": [
    "#### **Drop empty rows**\n",
    "_____"
   ]
  },
  {
   "cell_type": "code",
   "execution_count": 14,
   "id": "caee7a8d",
   "metadata": {},
   "outputs": [
    {
     "name": "stdout",
     "output_type": "stream",
     "text": [
      "without duplicates and nulls shape: (4325840, 18)\n",
      "Discarded log elements: 1630086\n"
     ]
    }
   ],
   "source": [
    "empty_rows = data[data.isna().all(axis=1)]\n",
    "discarded_rows.append(empty_rows)\n",
    "data_without_duplicates_and_null = data_without_duplicates.dropna(how='all')\n",
    "print(f\"without duplicates and nulls shape: {data_without_duplicates_and_null.shape}\")\n",
    "print(f\"Discarded log elements: {len(pd.concat(discarded_rows, ignore_index=True))}\")"
   ]
  },
  {
   "cell_type": "markdown",
   "id": "ef422345",
   "metadata": {},
   "source": [
    "#### **Log discarded rows**\n",
    "_____"
   ]
  },
  {
   "cell_type": "code",
   "execution_count": 15,
   "id": "7d5e45be",
   "metadata": {},
   "outputs": [
    {
     "name": "stdout",
     "output_type": "stream",
     "text": [
      "Discarded log elements: (1630086, 18)\n"
     ]
    }
   ],
   "source": [
    "# discarded_rows = []\n",
    "if not discarded_rows:\n",
    "    discarded_rows_df = pd.DataFrame()  # Return empty if nothing discarded\n",
    "    \n",
    "discarded_rows_df = pd.concat(discarded_rows, ignore_index=True) \n",
    "print(f\"Discarded log elements: {discarded_rows_df.shape}\")"
   ]
  },
  {
   "cell_type": "markdown",
   "id": "e1e3e0b5",
   "metadata": {},
   "source": [
    "#### **Save discarded rows**\n",
    "_____"
   ]
  },
  {
   "cell_type": "code",
   "execution_count": 16,
   "id": "4724ab1a",
   "metadata": {},
   "outputs": [],
   "source": [
    "discarded_rows_df.to_csv(\"../data/discarded_rows.csv\", index=False)"
   ]
  },
  {
   "cell_type": "markdown",
   "id": "aba6cbf8",
   "metadata": {},
   "source": [
    "### **Reports**\n",
    "____"
   ]
  },
  {
   "cell_type": "markdown",
   "id": "dceaeb4c",
   "metadata": {},
   "source": [
    "#### **Processing stats report**\n",
    "_____"
   ]
  },
  {
   "cell_type": "code",
   "execution_count": 17,
   "id": "79fe19a6",
   "metadata": {},
   "outputs": [
    {
     "name": "stdout",
     "output_type": "stream",
     "text": [
      "total_rows: 5430317\n",
      "empty_rows: 525610\n",
      "invalid_rows_discarded: 1630086\n",
      "total_duplicate_rows: 1104476\n",
      "total_usable_rows: 4325840\n"
     ]
    }
   ],
   "source": [
    "print(f\"total_rows: {len(data)}\")\n",
    "print(f\"empty_rows: {len(empty_rows)}\")\n",
    "print(f\"invalid_rows_discarded: {len(discarded_rows_df)}\")\n",
    "print(f\"total_duplicate_rows: {len(duplicates)}\")\n",
    "print(f\"total_usable_rows: {len(data_without_duplicates_and_null)}\")\n",
    "\n"
   ]
  },
  {
   "cell_type": "code",
   "execution_count": 19,
   "id": "632ffc49",
   "metadata": {},
   "outputs": [],
   "source": [
    "import json\n",
    "\n",
    "stats_dict = {\n",
    "        \"total_rows\": len(data),\n",
    "        \"total_empty_rows_removed\": len(empty_rows),\n",
    "        \"total_invalid_rows_discarded\": len(discarded_rows_df),\n",
    "        \"total_duplicate_rows_removed\": len(duplicates),\n",
    "        \"total_usable_rows\": len(data_without_duplicates_and_null)\n",
    "    }\n",
    "\n",
    "output_path_json = os.path.join(\"../data\", \"processing_stats.json\")\n",
    "with open(output_path_json, \"w\") as f:  # open and write the file\n",
    "            json.dump(stats_dict, f, indent=4)"
   ]
  },
  {
   "cell_type": "markdown",
   "id": "fdb32857",
   "metadata": {},
   "source": [
    "#### **Monthly metrics report**\n",
    "_______"
   ]
  },
  {
   "cell_type": "code",
   "execution_count": null,
   "id": "01c166d2",
   "metadata": {},
   "outputs": [],
   "source": []
  }
 ],
 "metadata": {
  "kernelspec": {
   "display_name": "coding_task",
   "language": "python",
   "name": "python3"
  },
  "language_info": {
   "codemirror_mode": {
    "name": "ipython",
    "version": 3
   },
   "file_extension": ".py",
   "mimetype": "text/x-python",
   "name": "python",
   "nbconvert_exporter": "python",
   "pygments_lexer": "ipython3",
   "version": "3.10.18"
  }
 },
 "nbformat": 4,
 "nbformat_minor": 5
}
